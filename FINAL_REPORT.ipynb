{
 "cells": [
  {
   "cell_type": "markdown",
   "id": "785a6525-3a7a-4d2e-8f73-81dd1f93cde2",
   "metadata": {},
   "source": [
    "# Metadata\n",
    "\n",
    "```yaml\n",
    "course:   DS 5001 \n",
    "module:   Final Project\n",
    "topic:    Exploratory Text Analytics using Television Sitcom Scripts Final Report\n",
    "author:   Eric Tria\n",
    "date:     2 May 2023\n",
    "```\n",
    "\n",
    "# Student Info\n",
    "\n",
    "```yaml\n",
    "name:     Eric Tria\n",
    "user_id:  emt4wf\n",
    "email:    emt4wf@virginia.edu\n",
    "```\n",
    "\n",
    "# Project: Exploratory Text Analytics using Television Sitcom Scripts"
   ]
  },
  {
   "cell_type": "markdown",
   "id": "011a5058-2483-409e-96b3-a9c7d77edd93",
   "metadata": {},
   "source": [
    "## 1. Introduction\n",
    "Describe the nature of your corpus and the question(s) you've asked of the data.\n",
    "\n",
    "## 2. Source Data\n",
    "Provide a description of all relativant source files and describe the following features for each source file:\n",
    "\n",
    "### 2.1 Provenance\n",
    "Where did they come from? Describe the website or other source and provide relevant URLs.\n",
    "\n",
    "### 2.2 Location\n",
    "Provide a link to the source files in UVA Box.\n",
    "\n",
    "### 2.3 Description\n",
    "What is the general subject matter of the corpus? How many observations are there? What is the average document length?\n",
    "\n",
    "### 2.4 Format\n",
    "A description of both the file formats of the source files, e.g., plaintext, XML, CSV, etc., and the internal structure where applicable. For - example, if XML then specify document type (e.g., TEI or XHTML).\n",
    "\n",
    "## 3. Data Model\n",
    "Describe the analytical tables you generated in the process of tokenization, annotation, and analysis of your corpus. You provide a list of tables with field names and their definition, along with URLs to each associated CSV file.\n",
    "\n",
    "## 4. Exploration\n",
    "Describe each of your explorations, such as PCA and topic models. For each, include the relevant parameters and hyperparemeters used to generate each model and visualization. For your visualizations, you should use at least three (but likely more) of the following visualization types:\n",
    "\n",
    "### 4.1 Hierarchical cluster diagrams\n",
    "\n",
    "### 4.2 Heatmaps showing correlations\n",
    "\n",
    "### 4.3 Scatter plots\n",
    "\n",
    "### 4.4 KDE plots\n",
    "\n",
    "### 4.5 Dispersion plots\n",
    "\n",
    "### 4.6 t-SNE plots\n",
    "\n",
    "## 5. Interpretation\n",
    "Provide your interpretation of the results of exploration, and any conclusion if you are comfortable making them."
   ]
  },
  {
   "cell_type": "code",
   "execution_count": null,
   "id": "cafcaea5-005d-4b6c-a39c-7ad2e93818a1",
   "metadata": {},
   "outputs": [],
   "source": []
  }
 ],
 "metadata": {
  "kernelspec": {
   "display_name": "Python 3 (ipykernel)",
   "language": "python",
   "name": "python3"
  },
  "language_info": {
   "codemirror_mode": {
    "name": "ipython",
    "version": 3
   },
   "file_extension": ".py",
   "mimetype": "text/x-python",
   "name": "python",
   "nbconvert_exporter": "python",
   "pygments_lexer": "ipython3",
   "version": "3.9.12"
  }
 },
 "nbformat": 4,
 "nbformat_minor": 5
}

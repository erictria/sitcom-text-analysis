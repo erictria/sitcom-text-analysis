{
 "cells": [
  {
   "cell_type": "code",
   "execution_count": 1,
   "id": "ed57803e-de57-48fc-8126-e7009d3b3221",
   "metadata": {},
   "outputs": [],
   "source": [
    "import pandas as pd\n",
    "import requests\n",
    "from bs4 import BeautifulSoup\n",
    "from lib.wiki_scraper import WikiScraper"
   ]
  },
  {
   "cell_type": "code",
   "execution_count": 2,
   "id": "b22a032e-b17e-4b8d-9a2f-76dd2a83b8b5",
   "metadata": {},
   "outputs": [],
   "source": [
    "url = 'https://en.wikipedia.org/wiki/List_of_Parks_and_Recreation_episodes'\n",
    "user_agent = 'Mozilla/5.0 (Macintosh; Intel Mac OS X 10_15_7) AppleWebKit/537.36 (KHTML, like Gecko) Chrome/103.0.0.0 Safari/537.36'"
   ]
  },
  {
   "cell_type": "code",
   "execution_count": 3,
   "id": "6d45b2a2-33c9-48be-a7a7-4c9ede3e7ca8",
   "metadata": {},
   "outputs": [],
   "source": [
    "ws = WikiScraper(user_agent)"
   ]
  },
  {
   "cell_type": "code",
   "execution_count": 4,
   "id": "d7897de5-9e1b-477e-97c9-8ff0602354c6",
   "metadata": {},
   "outputs": [],
   "source": [
    "column_map = {\n",
    "    'episode_id': 0,\n",
    "    'episode_title': 1,\n",
    "    'director': 2,\n",
    "    'writers': 3,\n",
    "    'date': 4,\n",
    "    'us_viewers': 5\n",
    "}\n",
    "res_df = ws.scrape_episode_list(url, column_map, season_limit = 7)"
   ]
  },
  {
   "cell_type": "code",
   "execution_count": 5,
   "id": "156ef91e-1459-4af1-8e60-8eff445202b9",
   "metadata": {},
   "outputs": [
    {
     "data": {
      "text/html": [
       "<div>\n",
       "<style scoped>\n",
       "    .dataframe tbody tr th:only-of-type {\n",
       "        vertical-align: middle;\n",
       "    }\n",
       "\n",
       "    .dataframe tbody tr th {\n",
       "        vertical-align: top;\n",
       "    }\n",
       "\n",
       "    .dataframe thead th {\n",
       "        text-align: right;\n",
       "    }\n",
       "</style>\n",
       "<table border=\"1\" class=\"dataframe\">\n",
       "  <thead>\n",
       "    <tr style=\"text-align: right;\">\n",
       "      <th></th>\n",
       "      <th>epsiode_title</th>\n",
       "      <th>director</th>\n",
       "      <th>writers</th>\n",
       "      <th>first_writer</th>\n",
       "      <th>date</th>\n",
       "      <th>us_viewers</th>\n",
       "      <th>episode_id</th>\n",
       "      <th>season_id</th>\n",
       "    </tr>\n",
       "  </thead>\n",
       "  <tbody>\n",
       "    <tr>\n",
       "      <th>0</th>\n",
       "      <td>Pilot</td>\n",
       "      <td>Greg Daniels</td>\n",
       "      <td>Greg Daniels &amp; Michael Schur</td>\n",
       "      <td>Greg Daniels</td>\n",
       "      <td>2009-04-09</td>\n",
       "      <td>6.77</td>\n",
       "      <td>1</td>\n",
       "      <td>1</td>\n",
       "    </tr>\n",
       "    <tr>\n",
       "      <th>1</th>\n",
       "      <td>Canvassing</td>\n",
       "      <td>Seth Gordon</td>\n",
       "      <td>Rachel Axler</td>\n",
       "      <td>Rachel Axler</td>\n",
       "      <td>2009-04-16</td>\n",
       "      <td>5.92</td>\n",
       "      <td>2</td>\n",
       "      <td>1</td>\n",
       "    </tr>\n",
       "    <tr>\n",
       "      <th>2</th>\n",
       "      <td>The Reporter</td>\n",
       "      <td>Jeffrey Blitz</td>\n",
       "      <td>Dan Goor</td>\n",
       "      <td>Dan Goor</td>\n",
       "      <td>2009-04-23</td>\n",
       "      <td>5.24</td>\n",
       "      <td>3</td>\n",
       "      <td>1</td>\n",
       "    </tr>\n",
       "    <tr>\n",
       "      <th>3</th>\n",
       "      <td>Boys' Club</td>\n",
       "      <td>Michael McCullers</td>\n",
       "      <td>Alan Yang</td>\n",
       "      <td>Alan Yang</td>\n",
       "      <td>2009-04-30</td>\n",
       "      <td>5.29</td>\n",
       "      <td>4</td>\n",
       "      <td>1</td>\n",
       "    </tr>\n",
       "    <tr>\n",
       "      <th>4</th>\n",
       "      <td>The Banquet</td>\n",
       "      <td>Beth McCarthy-Miller</td>\n",
       "      <td>Tucker Cawley</td>\n",
       "      <td>Tucker Cawley</td>\n",
       "      <td>2009-05-07</td>\n",
       "      <td>4.64</td>\n",
       "      <td>5</td>\n",
       "      <td>1</td>\n",
       "    </tr>\n",
       "    <tr>\n",
       "      <th>...</th>\n",
       "      <td>...</td>\n",
       "      <td>...</td>\n",
       "      <td>...</td>\n",
       "      <td>...</td>\n",
       "      <td>...</td>\n",
       "      <td>...</td>\n",
       "      <td>...</td>\n",
       "      <td>...</td>\n",
       "    </tr>\n",
       "    <tr>\n",
       "      <th>8</th>\n",
       "      <td>Pie-Mary</td>\n",
       "      <td>Greg Daniels</td>\n",
       "      <td>Emma Fletcher &amp; Rachna Fruchbom</td>\n",
       "      <td>Emma Fletcher</td>\n",
       "      <td>2015-02-10</td>\n",
       "      <td>2.47</td>\n",
       "      <td>9</td>\n",
       "      <td>7</td>\n",
       "    </tr>\n",
       "    <tr>\n",
       "      <th>9</th>\n",
       "      <td>The Johnny Karate Super Awesome Musical Explos...</td>\n",
       "      <td>Dean Holland</td>\n",
       "      <td>Matt Hubbard</td>\n",
       "      <td>Matt Hubbard</td>\n",
       "      <td>2015-02-17</td>\n",
       "      <td>2.94</td>\n",
       "      <td>10</td>\n",
       "      <td>7</td>\n",
       "    </tr>\n",
       "    <tr>\n",
       "      <th>10</th>\n",
       "      <td>Two Funerals</td>\n",
       "      <td>Craig Zisk</td>\n",
       "      <td>Jen Statsky</td>\n",
       "      <td>Jen Statsky</td>\n",
       "      <td>2015-02-17</td>\n",
       "      <td>2.47</td>\n",
       "      <td>11</td>\n",
       "      <td>7</td>\n",
       "    </tr>\n",
       "    <tr>\n",
       "      <th>11</th>\n",
       "      <td>One Last Ride</td>\n",
       "      <td>Michael Schur</td>\n",
       "      <td>Michael Schur &amp; Amy Poehler</td>\n",
       "      <td>Michael Schur</td>\n",
       "      <td>2015-02-24</td>\n",
       "      <td>4.15</td>\n",
       "      <td>12</td>\n",
       "      <td>7</td>\n",
       "    </tr>\n",
       "    <tr>\n",
       "      <th>12</th>\n",
       "      <td>One Last Ride</td>\n",
       "      <td>Michael Schur</td>\n",
       "      <td>Michael Schur &amp; Amy Poehler</td>\n",
       "      <td>Michael Schur</td>\n",
       "      <td>2015-02-24</td>\n",
       "      <td>4.15</td>\n",
       "      <td>13</td>\n",
       "      <td>7</td>\n",
       "    </tr>\n",
       "  </tbody>\n",
       "</table>\n",
       "<p>125 rows × 8 columns</p>\n",
       "</div>"
      ],
      "text/plain": [
       "                                        epsiode_title              director  \\\n",
       "0                                               Pilot          Greg Daniels   \n",
       "1                                          Canvassing           Seth Gordon   \n",
       "2                                        The Reporter         Jeffrey Blitz   \n",
       "3                                          Boys' Club     Michael McCullers   \n",
       "4                                         The Banquet  Beth McCarthy-Miller   \n",
       "..                                                ...                   ...   \n",
       "8                                            Pie-Mary          Greg Daniels   \n",
       "9   The Johnny Karate Super Awesome Musical Explos...          Dean Holland   \n",
       "10                                       Two Funerals            Craig Zisk   \n",
       "11                                      One Last Ride         Michael Schur   \n",
       "12                                      One Last Ride         Michael Schur   \n",
       "\n",
       "                            writers   first_writer        date us_viewers  \\\n",
       "0      Greg Daniels & Michael Schur   Greg Daniels  2009-04-09       6.77   \n",
       "1                      Rachel Axler   Rachel Axler  2009-04-16       5.92   \n",
       "2                          Dan Goor       Dan Goor  2009-04-23       5.24   \n",
       "3                         Alan Yang      Alan Yang  2009-04-30       5.29   \n",
       "4                     Tucker Cawley  Tucker Cawley  2009-05-07       4.64   \n",
       "..                              ...            ...         ...        ...   \n",
       "8   Emma Fletcher & Rachna Fruchbom  Emma Fletcher  2015-02-10       2.47   \n",
       "9                      Matt Hubbard   Matt Hubbard  2015-02-17       2.94   \n",
       "10                      Jen Statsky    Jen Statsky  2015-02-17       2.47   \n",
       "11      Michael Schur & Amy Poehler  Michael Schur  2015-02-24       4.15   \n",
       "12      Michael Schur & Amy Poehler  Michael Schur  2015-02-24       4.15   \n",
       "\n",
       "   episode_id  season_id  \n",
       "0           1          1  \n",
       "1           2          1  \n",
       "2           3          1  \n",
       "3           4          1  \n",
       "4           5          1  \n",
       "..        ...        ...  \n",
       "8           9          7  \n",
       "9          10          7  \n",
       "10         11          7  \n",
       "11         12          7  \n",
       "12         13          7  \n",
       "\n",
       "[125 rows x 8 columns]"
      ]
     },
     "execution_count": 5,
     "metadata": {},
     "output_type": "execute_result"
    }
   ],
   "source": [
    "res_df"
   ]
  },
  {
   "cell_type": "code",
   "execution_count": 7,
   "id": "18c14e59-fead-441e-a6a7-c43aec5a0ba3",
   "metadata": {},
   "outputs": [],
   "source": [
    "res_df['episode_id'] = res_df['episode_id'].astype(int)\n",
    "res_df['us_viewers'] = res_df['us_viewers'].astype(float)"
   ]
  },
  {
   "cell_type": "code",
   "execution_count": 8,
   "id": "d48d7baf-16a3-4d58-a327-dca15516cb82",
   "metadata": {},
   "outputs": [
    {
     "data": {
      "text/html": [
       "<div>\n",
       "<style scoped>\n",
       "    .dataframe tbody tr th:only-of-type {\n",
       "        vertical-align: middle;\n",
       "    }\n",
       "\n",
       "    .dataframe tbody tr th {\n",
       "        vertical-align: top;\n",
       "    }\n",
       "\n",
       "    .dataframe thead th {\n",
       "        text-align: right;\n",
       "    }\n",
       "</style>\n",
       "<table border=\"1\" class=\"dataframe\">\n",
       "  <thead>\n",
       "    <tr style=\"text-align: right;\">\n",
       "      <th></th>\n",
       "      <th>epsiode_title</th>\n",
       "      <th>director</th>\n",
       "      <th>writers</th>\n",
       "      <th>first_writer</th>\n",
       "      <th>date</th>\n",
       "      <th>us_viewers</th>\n",
       "      <th>episode_id</th>\n",
       "      <th>season_id</th>\n",
       "    </tr>\n",
       "  </thead>\n",
       "  <tbody>\n",
       "    <tr>\n",
       "      <th>0</th>\n",
       "      <td>Pilot</td>\n",
       "      <td>Greg Daniels</td>\n",
       "      <td>Greg Daniels &amp; Michael Schur</td>\n",
       "      <td>Greg Daniels</td>\n",
       "      <td>2009-04-09</td>\n",
       "      <td>6.77</td>\n",
       "      <td>1</td>\n",
       "      <td>1</td>\n",
       "    </tr>\n",
       "    <tr>\n",
       "      <th>1</th>\n",
       "      <td>Canvassing</td>\n",
       "      <td>Seth Gordon</td>\n",
       "      <td>Rachel Axler</td>\n",
       "      <td>Rachel Axler</td>\n",
       "      <td>2009-04-16</td>\n",
       "      <td>5.92</td>\n",
       "      <td>2</td>\n",
       "      <td>1</td>\n",
       "    </tr>\n",
       "    <tr>\n",
       "      <th>2</th>\n",
       "      <td>The Reporter</td>\n",
       "      <td>Jeffrey Blitz</td>\n",
       "      <td>Dan Goor</td>\n",
       "      <td>Dan Goor</td>\n",
       "      <td>2009-04-23</td>\n",
       "      <td>5.24</td>\n",
       "      <td>3</td>\n",
       "      <td>1</td>\n",
       "    </tr>\n",
       "    <tr>\n",
       "      <th>3</th>\n",
       "      <td>Boys' Club</td>\n",
       "      <td>Michael McCullers</td>\n",
       "      <td>Alan Yang</td>\n",
       "      <td>Alan Yang</td>\n",
       "      <td>2009-04-30</td>\n",
       "      <td>5.29</td>\n",
       "      <td>4</td>\n",
       "      <td>1</td>\n",
       "    </tr>\n",
       "    <tr>\n",
       "      <th>4</th>\n",
       "      <td>The Banquet</td>\n",
       "      <td>Beth McCarthy-Miller</td>\n",
       "      <td>Tucker Cawley</td>\n",
       "      <td>Tucker Cawley</td>\n",
       "      <td>2009-05-07</td>\n",
       "      <td>4.64</td>\n",
       "      <td>5</td>\n",
       "      <td>1</td>\n",
       "    </tr>\n",
       "    <tr>\n",
       "      <th>...</th>\n",
       "      <td>...</td>\n",
       "      <td>...</td>\n",
       "      <td>...</td>\n",
       "      <td>...</td>\n",
       "      <td>...</td>\n",
       "      <td>...</td>\n",
       "      <td>...</td>\n",
       "      <td>...</td>\n",
       "    </tr>\n",
       "    <tr>\n",
       "      <th>8</th>\n",
       "      <td>Pie-Mary</td>\n",
       "      <td>Greg Daniels</td>\n",
       "      <td>Emma Fletcher &amp; Rachna Fruchbom</td>\n",
       "      <td>Emma Fletcher</td>\n",
       "      <td>2015-02-10</td>\n",
       "      <td>2.47</td>\n",
       "      <td>9</td>\n",
       "      <td>7</td>\n",
       "    </tr>\n",
       "    <tr>\n",
       "      <th>9</th>\n",
       "      <td>The Johnny Karate Super Awesome Musical Explos...</td>\n",
       "      <td>Dean Holland</td>\n",
       "      <td>Matt Hubbard</td>\n",
       "      <td>Matt Hubbard</td>\n",
       "      <td>2015-02-17</td>\n",
       "      <td>2.94</td>\n",
       "      <td>10</td>\n",
       "      <td>7</td>\n",
       "    </tr>\n",
       "    <tr>\n",
       "      <th>10</th>\n",
       "      <td>Two Funerals</td>\n",
       "      <td>Craig Zisk</td>\n",
       "      <td>Jen Statsky</td>\n",
       "      <td>Jen Statsky</td>\n",
       "      <td>2015-02-17</td>\n",
       "      <td>2.47</td>\n",
       "      <td>11</td>\n",
       "      <td>7</td>\n",
       "    </tr>\n",
       "    <tr>\n",
       "      <th>11</th>\n",
       "      <td>One Last Ride</td>\n",
       "      <td>Michael Schur</td>\n",
       "      <td>Michael Schur &amp; Amy Poehler</td>\n",
       "      <td>Michael Schur</td>\n",
       "      <td>2015-02-24</td>\n",
       "      <td>4.15</td>\n",
       "      <td>12</td>\n",
       "      <td>7</td>\n",
       "    </tr>\n",
       "    <tr>\n",
       "      <th>12</th>\n",
       "      <td>One Last Ride</td>\n",
       "      <td>Michael Schur</td>\n",
       "      <td>Michael Schur &amp; Amy Poehler</td>\n",
       "      <td>Michael Schur</td>\n",
       "      <td>2015-02-24</td>\n",
       "      <td>4.15</td>\n",
       "      <td>13</td>\n",
       "      <td>7</td>\n",
       "    </tr>\n",
       "  </tbody>\n",
       "</table>\n",
       "<p>125 rows × 8 columns</p>\n",
       "</div>"
      ],
      "text/plain": [
       "                                        epsiode_title              director  \\\n",
       "0                                               Pilot          Greg Daniels   \n",
       "1                                          Canvassing           Seth Gordon   \n",
       "2                                        The Reporter         Jeffrey Blitz   \n",
       "3                                          Boys' Club     Michael McCullers   \n",
       "4                                         The Banquet  Beth McCarthy-Miller   \n",
       "..                                                ...                   ...   \n",
       "8                                            Pie-Mary          Greg Daniels   \n",
       "9   The Johnny Karate Super Awesome Musical Explos...          Dean Holland   \n",
       "10                                       Two Funerals            Craig Zisk   \n",
       "11                                      One Last Ride         Michael Schur   \n",
       "12                                      One Last Ride         Michael Schur   \n",
       "\n",
       "                            writers   first_writer        date  us_viewers  \\\n",
       "0      Greg Daniels & Michael Schur   Greg Daniels  2009-04-09        6.77   \n",
       "1                      Rachel Axler   Rachel Axler  2009-04-16        5.92   \n",
       "2                          Dan Goor       Dan Goor  2009-04-23        5.24   \n",
       "3                         Alan Yang      Alan Yang  2009-04-30        5.29   \n",
       "4                     Tucker Cawley  Tucker Cawley  2009-05-07        4.64   \n",
       "..                              ...            ...         ...         ...   \n",
       "8   Emma Fletcher & Rachna Fruchbom  Emma Fletcher  2015-02-10        2.47   \n",
       "9                      Matt Hubbard   Matt Hubbard  2015-02-17        2.94   \n",
       "10                      Jen Statsky    Jen Statsky  2015-02-17        2.47   \n",
       "11      Michael Schur & Amy Poehler  Michael Schur  2015-02-24        4.15   \n",
       "12      Michael Schur & Amy Poehler  Michael Schur  2015-02-24        4.15   \n",
       "\n",
       "    episode_id  season_id  \n",
       "0            1          1  \n",
       "1            2          1  \n",
       "2            3          1  \n",
       "3            4          1  \n",
       "4            5          1  \n",
       "..         ...        ...  \n",
       "8            9          7  \n",
       "9           10          7  \n",
       "10          11          7  \n",
       "11          12          7  \n",
       "12          13          7  \n",
       "\n",
       "[125 rows x 8 columns]"
      ]
     },
     "execution_count": 8,
     "metadata": {},
     "output_type": "execute_result"
    }
   ],
   "source": [
    "res_df"
   ]
  },
  {
   "cell_type": "code",
   "execution_count": 8,
   "id": "3f49d31b-95ca-4837-91cf-2bc6b4a7c727",
   "metadata": {},
   "outputs": [],
   "source": [
    "x = {1: 2}\n",
    "y = x.copy()"
   ]
  },
  {
   "cell_type": "code",
   "execution_count": 9,
   "id": "aefac1e2-d15a-4b11-a46e-a9d5f1c10588",
   "metadata": {},
   "outputs": [
    {
     "data": {
      "text/plain": [
       "{1: 2}"
      ]
     },
     "execution_count": 9,
     "metadata": {},
     "output_type": "execute_result"
    }
   ],
   "source": [
    "y"
   ]
  },
  {
   "cell_type": "code",
   "execution_count": 6,
   "id": "38724aca-14a7-464f-93c6-86d1d7c3190b",
   "metadata": {},
   "outputs": [],
   "source": [
    "r = requests.get(url)\n",
    "soup = BeautifulSoup(r.text, features = 'lxml')"
   ]
  },
  {
   "cell_type": "code",
   "execution_count": 7,
   "id": "e6e3739c-2dd4-44c0-bb31-8ccd3eee2161",
   "metadata": {},
   "outputs": [],
   "source": [
    "season_tables = soup.find_all('table', {'class': 'wikitable plainrowheaders wikiepisodetable'})"
   ]
  },
  {
   "cell_type": "code",
   "execution_count": 6,
   "id": "201cd996-9fe7-42c9-a357-21297da60007",
   "metadata": {},
   "outputs": [
    {
     "data": {
      "text/plain": [
       "8"
      ]
     },
     "execution_count": 6,
     "metadata": {},
     "output_type": "execute_result"
    }
   ],
   "source": [
    "len(season_tables)"
   ]
  },
  {
   "cell_type": "code",
   "execution_count": 8,
   "id": "325f7c84-885a-4786-afdf-84ac3172c094",
   "metadata": {},
   "outputs": [],
   "source": [
    "season_7 = season_tables[6]"
   ]
  },
  {
   "cell_type": "code",
   "execution_count": 9,
   "id": "c001578d-e309-4161-8ae5-00a6c4975a11",
   "metadata": {},
   "outputs": [],
   "source": [
    "season_7_eps = season_7.find_all('tr', {'class': 'vevent'})"
   ]
  },
  {
   "cell_type": "code",
   "execution_count": 10,
   "id": "c277cf09-fc10-41cb-bc2a-2d3fa7b79181",
   "metadata": {},
   "outputs": [],
   "source": [
    "ep_12 = season_7_eps[11]"
   ]
  },
  {
   "cell_type": "code",
   "execution_count": 11,
   "id": "851e7f86-dd30-4ad3-937d-e83f31069be6",
   "metadata": {},
   "outputs": [],
   "source": [
    "ep_12_deets = ep_12.find_all('td')"
   ]
  },
  {
   "cell_type": "code",
   "execution_count": 12,
   "id": "d0b1e962-fbcc-45bf-8f2c-9f38b878ba51",
   "metadata": {},
   "outputs": [
    {
     "data": {
      "text/plain": [
       "[<td style=\"text-align:center\">12<hr/>13</td>,\n",
       " <td class=\"summary\" rowspan=\"1\" style=\"text-align:left\">\"<a href=\"/wiki/One_Last_Ride\" title=\"One Last Ride\">One Last Ride</a>\"<sup>†‡</sup></td>,\n",
       " <td style=\"text-align:center\">Michael Schur</td>,\n",
       " <td style=\"text-align:center\">Michael Schur &amp; Amy Poehler</td>,\n",
       " <td style=\"text-align:center\">February 24, 2015<span style=\"display:none\"> (<span class=\"bday dtstart published updated\">2015-02-24</span>)</span></td>,\n",
       " <td style=\"text-align:center\">4.15<sup class=\"reference\" id=\"cite_ref-120\"><a href=\"#cite_note-120\">[120]</a></sup></td>]"
      ]
     },
     "execution_count": 12,
     "metadata": {},
     "output_type": "execute_result"
    }
   ],
   "source": [
    "ep_12_deets"
   ]
  },
  {
   "cell_type": "code",
   "execution_count": 22,
   "id": "dbf1fe62-8ab4-4211-96ba-f77865f7fb62",
   "metadata": {},
   "outputs": [
    {
     "data": {
      "text/plain": [
       "<hr/>"
      ]
     },
     "execution_count": 22,
     "metadata": {},
     "output_type": "execute_result"
    }
   ],
   "source": [
    "ep_12_deets[0].find('hr').replace_with('-')"
   ]
  },
  {
   "cell_type": "code",
   "execution_count": 24,
   "id": "f1addcf6-8de2-4794-af5d-2c878c4cc66d",
   "metadata": {},
   "outputs": [],
   "source": [
    "import re\n",
    "\n",
    "quote_regex = '\"([^\"]*)\"'\n",
    "parenthesis_regex = '\\(([^)]*)\\)'\n",
    "\n",
    "episode_lib = {\n",
    "    'episode_id': ep_1_deets[0].text,\n",
    "    'epsiode_title': re.search(quote_regex, ep_1_deets[1].text).group(1),\n",
    "    'director': ep_1_deets[2].text,\n",
    "    'writers': ep_1_deets[3].text,\n",
    "    'first_writer': ep_1_deets[3].text.split('&')[0].strip() if '&' in ep_1_deets[3].text else ep_1_deets[3].text,\n",
    "    'date': re.search(parenthesis_regex, ep_1_deets[4].text).group(1),\n",
    "    'us_viewers': ep_1_deets[5].text.split('[')[0],\n",
    "}"
   ]
  },
  {
   "cell_type": "code",
   "execution_count": 25,
   "id": "7d94f552-27e3-4eab-b5f4-7a07a151685b",
   "metadata": {},
   "outputs": [
    {
     "data": {
      "text/plain": [
       "{'episode_id': '1',\n",
       " 'epsiode_title': 'Pilot',\n",
       " 'director': 'Greg Daniels',\n",
       " 'writers': 'Greg Daniels & Michael Schur',\n",
       " 'first_writer': 'Greg Daniels',\n",
       " 'date': '2009-04-09',\n",
       " 'us_viewers': '6.77'}"
      ]
     },
     "execution_count": 25,
     "metadata": {},
     "output_type": "execute_result"
    }
   ],
   "source": [
    "episode_lib"
   ]
  },
  {
   "cell_type": "code",
   "execution_count": null,
   "id": "04618509-c6d0-4550-b6c1-eafe8a7be220",
   "metadata": {},
   "outputs": [],
   "source": []
  }
 ],
 "metadata": {
  "kernelspec": {
   "display_name": "Python 3 (ipykernel)",
   "language": "python",
   "name": "python3"
  },
  "language_info": {
   "codemirror_mode": {
    "name": "ipython",
    "version": 3
   },
   "file_extension": ".py",
   "mimetype": "text/x-python",
   "name": "python",
   "nbconvert_exporter": "python",
   "pygments_lexer": "ipython3",
   "version": "3.9.12"
  }
 },
 "nbformat": 4,
 "nbformat_minor": 5
}
